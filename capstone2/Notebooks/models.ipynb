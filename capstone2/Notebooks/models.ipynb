{
 "cells": [
  {
   "cell_type": "code",
   "execution_count": 1,
   "id": "3c1aded5",
   "metadata": {},
   "outputs": [],
   "source": [
    "import pandas as pd\n",
    "import numpy as np\n",
    "import matplotlib.pyplot as plt\n",
    "import seaborn as sns\n",
    "from sklearn.preprocessing import scale\n",
    "from sklearn.decomposition import PCA\n",
    "\n",
    "import statsmodels.api as sm\n",
    "from statsmodels.graphics.api import abline_plot\n",
    "from sklearn.metrics import mean_squared_error, r2_score, mean_absolute_error\n",
    "from sklearn.model_selection import train_test_split\n",
    "from sklearn import linear_model, preprocessing\n"
   ]
  },
  {
   "cell_type": "code",
   "execution_count": 56,
   "id": "78e1b704",
   "metadata": {},
   "outputs": [],
   "source": [
    "df_de =pd.read_excel('data.xlsx',sheet_name='sheet1',index_col=0, engine='openpyxl')\n",
    "df_de.drop(['FRS_Id'], axis=1, inplace=True)\n",
    "df_de = df_de.reset_index()"
   ]
  },
  {
   "cell_type": "code",
   "execution_count": 3,
   "id": "97787f10",
   "metadata": {
    "scrolled": true
   },
   "outputs": [
    {
     "data": {
      "text/html": [
       "<div>\n",
       "<style scoped>\n",
       "    .dataframe tbody tr th:only-of-type {\n",
       "        vertical-align: middle;\n",
       "    }\n",
       "\n",
       "    .dataframe tbody tr th {\n",
       "        vertical-align: top;\n",
       "    }\n",
       "\n",
       "    .dataframe thead th {\n",
       "        text-align: right;\n",
       "    }\n",
       "</style>\n",
       "<table border=\"1\" class=\"dataframe\">\n",
       "  <thead>\n",
       "    <tr style=\"text-align: right;\">\n",
       "      <th></th>\n",
       "      <th>Facility Id</th>\n",
       "      <th>Facility_Name</th>\n",
       "      <th>City</th>\n",
       "      <th>State</th>\n",
       "      <th>Zip Code</th>\n",
       "      <th>Address</th>\n",
       "      <th>County</th>\n",
       "      <th>Latitude</th>\n",
       "      <th>Longitude</th>\n",
       "      <th>Primary_NAICS_Code</th>\n",
       "      <th>...</th>\n",
       "      <th>2020</th>\n",
       "      <th>2019</th>\n",
       "      <th>2018</th>\n",
       "      <th>2017</th>\n",
       "      <th>2016</th>\n",
       "      <th>2015</th>\n",
       "      <th>2014</th>\n",
       "      <th>2013</th>\n",
       "      <th>2012</th>\n",
       "      <th>2011</th>\n",
       "    </tr>\n",
       "  </thead>\n",
       "  <tbody>\n",
       "    <tr>\n",
       "      <th>0</th>\n",
       "      <td>1004377</td>\n",
       "      <td>121 REGIONAL DISPOSAL FACILITY</td>\n",
       "      <td>MELISSA</td>\n",
       "      <td>TX</td>\n",
       "      <td>75454</td>\n",
       "      <td>3820 SAM RAYBURN HIGHWAY</td>\n",
       "      <td>COLLIN COUNTY</td>\n",
       "      <td>33.298570</td>\n",
       "      <td>-96.535860</td>\n",
       "      <td>562212</td>\n",
       "      <td>...</td>\n",
       "      <td>504064.000</td>\n",
       "      <td>518680.250</td>\n",
       "      <td>653854.000000</td>\n",
       "      <td>250497.500000</td>\n",
       "      <td>221014.750000</td>\n",
       "      <td>199011.750000</td>\n",
       "      <td>241883.500000</td>\n",
       "      <td>289953.250000</td>\n",
       "      <td>204000.000000</td>\n",
       "      <td>194000.000000</td>\n",
       "    </tr>\n",
       "    <tr>\n",
       "      <th>1</th>\n",
       "      <td>1000112</td>\n",
       "      <td>23rd and 3rd</td>\n",
       "      <td>BROOKLYN</td>\n",
       "      <td>NY</td>\n",
       "      <td>11232</td>\n",
       "      <td>730 3rd Avenue</td>\n",
       "      <td>Kings</td>\n",
       "      <td>40.663000</td>\n",
       "      <td>-74.000000</td>\n",
       "      <td>221112</td>\n",
       "      <td>...</td>\n",
       "      <td>60819.700</td>\n",
       "      <td>44658.384</td>\n",
       "      <td>70705.288000</td>\n",
       "      <td>52698.656000</td>\n",
       "      <td>66797.352000</td>\n",
       "      <td>67399.252000</td>\n",
       "      <td>40722.200000</td>\n",
       "      <td>102599.220000</td>\n",
       "      <td>68984.744000</td>\n",
       "      <td>100591.828000</td>\n",
       "    </tr>\n",
       "    <tr>\n",
       "      <th>2</th>\n",
       "      <td>1013621</td>\n",
       "      <td>3Bear Libby Gas Plant</td>\n",
       "      <td>Hobbs</td>\n",
       "      <td>NM</td>\n",
       "      <td>88240</td>\n",
       "      <td>674 Marathon Rd</td>\n",
       "      <td>LEA COUNTY</td>\n",
       "      <td>32.540693</td>\n",
       "      <td>-103.522351</td>\n",
       "      <td>211130</td>\n",
       "      <td>...</td>\n",
       "      <td>40521.812</td>\n",
       "      <td>38691.478</td>\n",
       "      <td>435280.099943</td>\n",
       "      <td>431488.809907</td>\n",
       "      <td>447423.757318</td>\n",
       "      <td>467277.995747</td>\n",
       "      <td>491686.293592</td>\n",
       "      <td>500278.254166</td>\n",
       "      <td>507639.706331</td>\n",
       "      <td>534026.861412</td>\n",
       "    </tr>\n",
       "    <tr>\n",
       "      <th>3</th>\n",
       "      <td>1003742</td>\n",
       "      <td>31st Street Landfill</td>\n",
       "      <td>WESTCHESTER</td>\n",
       "      <td>IL</td>\n",
       "      <td>60154</td>\n",
       "      <td>11700 W 31ST ST</td>\n",
       "      <td>COOK COUNTY</td>\n",
       "      <td>41.835129</td>\n",
       "      <td>-87.915924</td>\n",
       "      <td>562212</td>\n",
       "      <td>...</td>\n",
       "      <td>100500.948</td>\n",
       "      <td>18925.400</td>\n",
       "      <td>31220.150000</td>\n",
       "      <td>29026.800000</td>\n",
       "      <td>120657.600000</td>\n",
       "      <td>92696.600000</td>\n",
       "      <td>120707.350000</td>\n",
       "      <td>97467.500000</td>\n",
       "      <td>87357.750000</td>\n",
       "      <td>95113.250000</td>\n",
       "    </tr>\n",
       "    <tr>\n",
       "      <th>4</th>\n",
       "      <td>1003188</td>\n",
       "      <td>3M BROWNWOOD</td>\n",
       "      <td>BROWNWOOD</td>\n",
       "      <td>TX</td>\n",
       "      <td>76801</td>\n",
       "      <td>4501 HIGHWAY 377 SOUTH</td>\n",
       "      <td>BROWN COUNTY</td>\n",
       "      <td>31.671177</td>\n",
       "      <td>-98.996513</td>\n",
       "      <td>326113</td>\n",
       "      <td>...</td>\n",
       "      <td>29359.640</td>\n",
       "      <td>30571.636</td>\n",
       "      <td>34432.420000</td>\n",
       "      <td>36202.264000</td>\n",
       "      <td>31773.480000</td>\n",
       "      <td>36754.712000</td>\n",
       "      <td>36419.864000</td>\n",
       "      <td>34821.820000</td>\n",
       "      <td>33671.924000</td>\n",
       "      <td>37149.360000</td>\n",
       "    </tr>\n",
       "  </tbody>\n",
       "</table>\n",
       "<p>5 rows × 22 columns</p>\n",
       "</div>"
      ],
      "text/plain": [
       "   Facility Id                   Facility_Name         City State  Zip Code  \\\n",
       "0      1004377  121 REGIONAL DISPOSAL FACILITY      MELISSA    TX     75454   \n",
       "1      1000112                    23rd and 3rd     BROOKLYN    NY     11232   \n",
       "2      1013621           3Bear Libby Gas Plant        Hobbs    NM     88240   \n",
       "3      1003742            31st Street Landfill  WESTCHESTER    IL     60154   \n",
       "4      1003188                    3M BROWNWOOD    BROWNWOOD    TX     76801   \n",
       "\n",
       "                    Address         County   Latitude   Longitude  \\\n",
       "0  3820 SAM RAYBURN HIGHWAY  COLLIN COUNTY  33.298570  -96.535860   \n",
       "1            730 3rd Avenue          Kings  40.663000  -74.000000   \n",
       "2           674 Marathon Rd     LEA COUNTY  32.540693 -103.522351   \n",
       "3           11700 W 31ST ST    COOK COUNTY  41.835129  -87.915924   \n",
       "4    4501 HIGHWAY 377 SOUTH   BROWN COUNTY  31.671177  -98.996513   \n",
       "\n",
       "   Primary_NAICS_Code  ...        2020        2019           2018  \\\n",
       "0              562212  ...  504064.000  518680.250  653854.000000   \n",
       "1              221112  ...   60819.700   44658.384   70705.288000   \n",
       "2              211130  ...   40521.812   38691.478  435280.099943   \n",
       "3              562212  ...  100500.948   18925.400   31220.150000   \n",
       "4              326113  ...   29359.640   30571.636   34432.420000   \n",
       "\n",
       "            2017           2016           2015           2014           2013  \\\n",
       "0  250497.500000  221014.750000  199011.750000  241883.500000  289953.250000   \n",
       "1   52698.656000   66797.352000   67399.252000   40722.200000  102599.220000   \n",
       "2  431488.809907  447423.757318  467277.995747  491686.293592  500278.254166   \n",
       "3   29026.800000  120657.600000   92696.600000  120707.350000   97467.500000   \n",
       "4   36202.264000   31773.480000   36754.712000   36419.864000   34821.820000   \n",
       "\n",
       "            2012           2011  \n",
       "0  204000.000000  194000.000000  \n",
       "1   68984.744000  100591.828000  \n",
       "2  507639.706331  534026.861412  \n",
       "3   87357.750000   95113.250000  \n",
       "4   33671.924000   37149.360000  \n",
       "\n",
       "[5 rows x 22 columns]"
      ]
     },
     "execution_count": 3,
     "metadata": {},
     "output_type": "execute_result"
    }
   ],
   "source": [
    "df_de.head()"
   ]
  },
  {
   "cell_type": "markdown",
   "id": "d163d52b",
   "metadata": {},
   "source": [
    "# Using Multioutput regressor for predicting 3 years"
   ]
  },
  {
   "cell_type": "code",
   "execution_count": null,
   "id": "4ed097ab",
   "metadata": {},
   "outputs": [],
   "source": [
    "from sklearn.multioutput import MultiOutputRegressor\n",
    "from sklearn.ensemble import RandomForestRegressor"
   ]
  },
  {
   "cell_type": "code",
   "execution_count": 4,
   "id": "c9182796",
   "metadata": {},
   "outputs": [
    {
     "data": {
      "text/plain": [
       "Index(['Latitude', 'Longitude', '2017', '2016', '2015', '2014', '2013', '2012',\n",
       "       '2011', 'AK', 'AL', 'AR', 'AZ', 'CA', 'CO', 'CT', 'DC', 'DE', 'FL',\n",
       "       'GA', 'GU', 'HI', 'IA', 'ID', 'IL', 'IN', 'KS', 'KY', 'LA', 'MA', 'MD',\n",
       "       'ME', 'MI', 'MN', 'MO', 'MS', 'MT', 'NC', 'ND', 'NE', 'NH', 'NJ', 'NM',\n",
       "       'NV', 'NY', 'OH', 'OK', 'OR', 'PA', 'PR', 'RI', 'SC', 'SD', 'TN', 'TX',\n",
       "       'UT', 'VA', 'VI', 'VT', 'WA', 'WI', 'WV', 'WY'],\n",
       "      dtype='object')"
      ]
     },
     "execution_count": 4,
     "metadata": {},
     "output_type": "execute_result"
    }
   ],
   "source": [
    "X = df_de.drop(['2020','2019','2018','Facility Id','Facility_Name', 'City', 'State', 'Zip Code', 'Address',\n",
    "       'County','Primary_NAICS_Code', 'IT_subparts', 'IT_sectors','Primary_NAICS_Code'],axis = 1)\n",
    "st_dummies=pd.get_dummies(df_de['State'])\n",
    "X_st = X.join(st_dummies)\n",
    "#X_st = sm.add_constant(X_st)\n",
    "y_st=df_de[['2020','2019','2018']]\n",
    "X_st_train, X_st_test, y_st_train, y_st_test=train_test_split(X_st, y_st, test_size = 0.25, random_state = 246)\n",
    "X_st_train.columns"
   ]
  },
  {
   "cell_type": "code",
   "execution_count": 6,
   "id": "116022a8",
   "metadata": {},
   "outputs": [
    {
     "data": {
      "text/plain": [
       "MultiOutputRegressor(estimator=RandomForestRegressor(max_depth=30,\n",
       "                                                     random_state=0))"
      ]
     },
     "execution_count": 6,
     "metadata": {},
     "output_type": "execute_result"
    }
   ],
   "source": [
    "max_depth = 30\n",
    "regr_multirf = MultiOutputRegressor(\n",
    "    RandomForestRegressor(n_estimators=100, max_depth=max_depth, random_state=0)\n",
    ")\n",
    "regr_multirf.fit(X_st_train, y_st_train)"
   ]
  },
  {
   "cell_type": "code",
   "execution_count": 7,
   "id": "f0d34d6e",
   "metadata": {},
   "outputs": [
    {
     "data": {
      "text/plain": [
       "0.990539508766097"
      ]
     },
     "execution_count": 7,
     "metadata": {},
     "output_type": "execute_result"
    }
   ],
   "source": [
    "regr_multirf.score(X_st_train, y_st_train)"
   ]
  },
  {
   "cell_type": "code",
   "execution_count": 14,
   "id": "c5654196",
   "metadata": {},
   "outputs": [],
   "source": [
    "y_multirf = regr_multirf.predict(X_st_test)\n"
   ]
  },
  {
   "cell_type": "code",
   "execution_count": 10,
   "id": "3ac4fbc0",
   "metadata": {},
   "outputs": [
    {
     "data": {
      "text/plain": [
       "4144     193378.584\n",
       "958      196779.850\n",
       "3697       4757.974\n",
       "2616      52955.286\n",
       "5793      26758.598\n",
       "           ...     \n",
       "1451    5666069.672\n",
       "2331     603359.194\n",
       "2518      96490.800\n",
       "5587      15247.804\n",
       "2044      18881.164\n",
       "Name: 2020, Length: 1629, dtype: float64"
      ]
     },
     "execution_count": 10,
     "metadata": {},
     "output_type": "execute_result"
    }
   ],
   "source": [
    "y_st_test.iloc[:,0]"
   ]
  },
  {
   "cell_type": "code",
   "execution_count": 11,
   "id": "6b06e488",
   "metadata": {},
   "outputs": [
    {
     "data": {
      "text/plain": [
       "array([[164988.90625735, 155196.51828   , 144583.56870255],\n",
       "       [133085.64615734, 145570.11095266, 122416.25557   ],\n",
       "       [ 13152.09328786,  17525.84714318,  19376.7491626 ],\n",
       "       ...,\n",
       "       [ 86829.36659199,  90341.62964072,  96632.76493112],\n",
       "       [ 49959.50129521,  49955.99747219,  51028.95623277],\n",
       "       [ 44290.15364   ,  50113.14082   ,  55984.41408   ]])"
      ]
     },
     "execution_count": 11,
     "metadata": {},
     "output_type": "execute_result"
    }
   ],
   "source": [
    "y_multirf"
   ]
  },
  {
   "cell_type": "code",
   "execution_count": 17,
   "id": "feb072de",
   "metadata": {},
   "outputs": [
    {
     "name": "stdout",
     "output_type": "stream",
     "text": [
      "Mean squared error 127081227585.64314\n",
      "SQRT of R-squared 356484.5404581286\n",
      "Mean absolute error 108564.65879696335\n"
     ]
    }
   ],
   "source": [
    "import math\n",
    "\n",
    "print('Mean squared error', mean_squared_error(y_st_test, y_multirf))\n",
    "print('SQRT of R-squared', math.sqrt(mean_squared_error(y_st_test, y_multirf)))\n",
    "print('Mean absolute error', mean_absolute_error(y_st_test, y_multirf))\n",
    "#print('R-sqruared',regr_multirf.rsquared)"
   ]
  },
  {
   "cell_type": "markdown",
   "id": "f960af3b",
   "metadata": {},
   "source": [
    "### algorithm for the future 10 yrs prediction\n",
    "\n",
    "for future in futures(1 to 10 years): X = features[1:10] y= target[11] yfuture=model.predict(y) X.drop(features[1]) shift columns from 2 to 10, to 1 to 9 X[10] = yfuture\n",
    "\n",
    "fit the model for 7 years and predict 3 years\n",
    "\n",
    "other metrics to evaluate.."
   ]
  },
  {
   "cell_type": "markdown",
   "id": "805bdc51",
   "metadata": {},
   "source": [
    "### Building a Linear regression model to predict one year"
   ]
  },
  {
   "cell_type": "code",
   "execution_count": 78,
   "id": "f6a56909",
   "metadata": {},
   "outputs": [
    {
     "data": {
      "text/plain": [
       "(6515, 67)"
      ]
     },
     "execution_count": 78,
     "metadata": {},
     "output_type": "execute_result"
    }
   ],
   "source": [
    "X = df_de.drop(['Facility_Name', 'City', 'State', 'Zip Code', 'Address',\n",
    "       'County','Primary_NAICS_Code', 'IT_subparts', 'IT_sectors','Primary_NAICS_Code'],axis = 1)\n",
    "st_dummies=pd.get_dummies(df_de['State'])\n",
    "X= X.join(st_dummies)\n",
    "X.shape\n"
   ]
  },
  {
   "cell_type": "code",
   "execution_count": 61,
   "id": "9e7cb9f2",
   "metadata": {},
   "outputs": [
    {
     "data": {
      "text/html": [
       "<table class=\"simpletable\">\n",
       "<caption>OLS Regression Results</caption>\n",
       "<tr>\n",
       "  <th>Dep. Variable:</th>          <td>2020</td>       <th>  R-squared:         </th> <td>   0.956</td> \n",
       "</tr>\n",
       "<tr>\n",
       "  <th>Model:</th>                   <td>OLS</td>       <th>  Adj. R-squared:    </th> <td>   0.956</td> \n",
       "</tr>\n",
       "<tr>\n",
       "  <th>Method:</th>             <td>Least Squares</td>  <th>  F-statistic:       </th> <td>   1619.</td> \n",
       "</tr>\n",
       "<tr>\n",
       "  <th>Date:</th>             <td>Mon, 28 Feb 2022</td> <th>  Prob (F-statistic):</th>  <td>  0.00</td>  \n",
       "</tr>\n",
       "<tr>\n",
       "  <th>Time:</th>                 <td>11:30:02</td>     <th>  Log-Likelihood:    </th> <td> -67023.</td> \n",
       "</tr>\n",
       "<tr>\n",
       "  <th>No. Observations:</th>      <td>  4886</td>      <th>  AIC:               </th> <td>1.342e+05</td>\n",
       "</tr>\n",
       "<tr>\n",
       "  <th>Df Residuals:</th>          <td>  4820</td>      <th>  BIC:               </th> <td>1.346e+05</td>\n",
       "</tr>\n",
       "<tr>\n",
       "  <th>Df Model:</th>              <td>    65</td>      <th>                     </th>     <td> </td>    \n",
       "</tr>\n",
       "<tr>\n",
       "  <th>Covariance Type:</th>      <td>nonrobust</td>    <th>                     </th>     <td> </td>    \n",
       "</tr>\n",
       "</table>\n",
       "<table class=\"simpletable\">\n",
       "<tr>\n",
       "       <td></td>          <th>coef</th>     <th>std err</th>      <th>t</th>      <th>P>|t|</th>  <th>[0.025</th>    <th>0.975]</th>  \n",
       "</tr>\n",
       "<tr>\n",
       "  <th>Facility Id</th> <td>   -0.0671</td> <td>    0.875</td> <td>   -0.077</td> <td> 0.939</td> <td>   -1.782</td> <td>    1.648</td>\n",
       "</tr>\n",
       "<tr>\n",
       "  <th>Latitude</th>    <td> 2067.6050</td> <td> 2373.332</td> <td>    0.871</td> <td> 0.384</td> <td>-2585.208</td> <td> 6720.418</td>\n",
       "</tr>\n",
       "<tr>\n",
       "  <th>Longitude</th>   <td> 5171.4692</td> <td> 1718.846</td> <td>    3.009</td> <td> 0.003</td> <td> 1801.746</td> <td> 8541.192</td>\n",
       "</tr>\n",
       "<tr>\n",
       "  <th>2019</th>        <td>    0.8054</td> <td>    0.015</td> <td>   54.238</td> <td> 0.000</td> <td>    0.776</td> <td>    0.835</td>\n",
       "</tr>\n",
       "<tr>\n",
       "  <th>2018</th>        <td>    0.1487</td> <td>    0.019</td> <td>    7.649</td> <td> 0.000</td> <td>    0.111</td> <td>    0.187</td>\n",
       "</tr>\n",
       "<tr>\n",
       "  <th>2017</th>        <td>   -0.0096</td> <td>    0.020</td> <td>   -0.486</td> <td> 0.627</td> <td>   -0.048</td> <td>    0.029</td>\n",
       "</tr>\n",
       "<tr>\n",
       "  <th>2016</th>        <td>    0.0567</td> <td>    0.020</td> <td>    2.864</td> <td> 0.004</td> <td>    0.018</td> <td>    0.095</td>\n",
       "</tr>\n",
       "<tr>\n",
       "  <th>2015</th>        <td>    0.0769</td> <td>    0.019</td> <td>    4.032</td> <td> 0.000</td> <td>    0.040</td> <td>    0.114</td>\n",
       "</tr>\n",
       "<tr>\n",
       "  <th>2014</th>        <td>   -0.2485</td> <td>    0.019</td> <td>  -13.228</td> <td> 0.000</td> <td>   -0.285</td> <td>   -0.212</td>\n",
       "</tr>\n",
       "<tr>\n",
       "  <th>2013</th>        <td>    0.0545</td> <td>    0.018</td> <td>    2.999</td> <td> 0.003</td> <td>    0.019</td> <td>    0.090</td>\n",
       "</tr>\n",
       "<tr>\n",
       "  <th>2012</th>        <td>    0.0169</td> <td>    0.016</td> <td>    1.043</td> <td> 0.297</td> <td>   -0.015</td> <td>    0.049</td>\n",
       "</tr>\n",
       "<tr>\n",
       "  <th>2011</th>        <td>    0.0025</td> <td>    0.012</td> <td>    0.208</td> <td> 0.835</td> <td>   -0.021</td> <td>    0.026</td>\n",
       "</tr>\n",
       "<tr>\n",
       "  <th>AK</th>          <td>  7.27e+05</td> <td> 9.15e+05</td> <td>    0.795</td> <td> 0.427</td> <td>-1.07e+06</td> <td> 2.52e+06</td>\n",
       "</tr>\n",
       "<tr>\n",
       "  <th>AL</th>          <td>  4.56e+05</td> <td> 8.89e+05</td> <td>    0.513</td> <td> 0.608</td> <td>-1.29e+06</td> <td>  2.2e+06</td>\n",
       "</tr>\n",
       "<tr>\n",
       "  <th>AR</th>          <td> 4.223e+05</td> <td> 8.91e+05</td> <td>    0.474</td> <td> 0.636</td> <td>-1.32e+06</td> <td> 2.17e+06</td>\n",
       "</tr>\n",
       "<tr>\n",
       "  <th>AZ</th>          <td> 6.518e+05</td> <td> 8.94e+05</td> <td>    0.729</td> <td> 0.466</td> <td> -1.1e+06</td> <td>  2.4e+06</td>\n",
       "</tr>\n",
       "<tr>\n",
       "  <th>CA</th>          <td>  6.28e+05</td> <td> 8.97e+05</td> <td>    0.700</td> <td> 0.484</td> <td>-1.13e+06</td> <td> 2.39e+06</td>\n",
       "</tr>\n",
       "<tr>\n",
       "  <th>CO</th>          <td> 5.474e+05</td> <td> 8.94e+05</td> <td>    0.612</td> <td> 0.540</td> <td>-1.21e+06</td> <td>  2.3e+06</td>\n",
       "</tr>\n",
       "<tr>\n",
       "  <th>CT</th>          <td> 4.133e+05</td> <td> 8.89e+05</td> <td>    0.465</td> <td> 0.642</td> <td>-1.33e+06</td> <td> 2.16e+06</td>\n",
       "</tr>\n",
       "<tr>\n",
       "  <th>DC</th>          <td> 3.902e+05</td> <td> 8.96e+05</td> <td>    0.436</td> <td> 0.663</td> <td>-1.37e+06</td> <td> 2.15e+06</td>\n",
       "</tr>\n",
       "<tr>\n",
       "  <th>DE</th>          <td> 3.828e+05</td> <td> 8.91e+05</td> <td>    0.430</td> <td> 0.667</td> <td>-1.36e+06</td> <td> 2.13e+06</td>\n",
       "</tr>\n",
       "<tr>\n",
       "  <th>FL</th>          <td> 5.039e+05</td> <td> 8.87e+05</td> <td>    0.568</td> <td> 0.570</td> <td>-1.24e+06</td> <td> 2.24e+06</td>\n",
       "</tr>\n",
       "<tr>\n",
       "  <th>GA</th>          <td> 4.154e+05</td> <td> 8.89e+05</td> <td>    0.467</td> <td> 0.640</td> <td>-1.33e+06</td> <td> 2.16e+06</td>\n",
       "</tr>\n",
       "<tr>\n",
       "  <th>GU</th>          <td>-6.388e+05</td> <td> 9.44e+05</td> <td>   -0.677</td> <td> 0.499</td> <td>-2.49e+06</td> <td> 1.21e+06</td>\n",
       "</tr>\n",
       "<tr>\n",
       "  <th>HI</th>          <td> 8.334e+05</td> <td> 9.08e+05</td> <td>    0.917</td> <td> 0.359</td> <td>-9.48e+05</td> <td> 2.61e+06</td>\n",
       "</tr>\n",
       "<tr>\n",
       "  <th>IA</th>          <td> 4.604e+05</td> <td> 8.92e+05</td> <td>    0.516</td> <td> 0.606</td> <td>-1.29e+06</td> <td> 2.21e+06</td>\n",
       "</tr>\n",
       "<tr>\n",
       "  <th>ID</th>          <td> 5.825e+05</td> <td> 8.99e+05</td> <td>    0.648</td> <td> 0.517</td> <td>-1.18e+06</td> <td> 2.34e+06</td>\n",
       "</tr>\n",
       "<tr>\n",
       "  <th>IL</th>          <td> 4.542e+05</td> <td>  8.9e+05</td> <td>    0.510</td> <td> 0.610</td> <td>-1.29e+06</td> <td>  2.2e+06</td>\n",
       "</tr>\n",
       "<tr>\n",
       "  <th>IN</th>          <td> 4.029e+05</td> <td>  8.9e+05</td> <td>    0.453</td> <td> 0.651</td> <td>-1.34e+06</td> <td> 2.15e+06</td>\n",
       "</tr>\n",
       "<tr>\n",
       "  <th>KS</th>          <td> 5.092e+05</td> <td> 8.92e+05</td> <td>    0.571</td> <td> 0.568</td> <td>-1.24e+06</td> <td> 2.26e+06</td>\n",
       "</tr>\n",
       "<tr>\n",
       "  <th>KY</th>          <td> 4.248e+05</td> <td>  8.9e+05</td> <td>    0.477</td> <td> 0.633</td> <td>-1.32e+06</td> <td> 2.17e+06</td>\n",
       "</tr>\n",
       "<tr>\n",
       "  <th>LA</th>          <td> 4.784e+05</td> <td>  8.9e+05</td> <td>    0.537</td> <td> 0.591</td> <td>-1.27e+06</td> <td> 2.22e+06</td>\n",
       "</tr>\n",
       "<tr>\n",
       "  <th>MA</th>          <td> 3.522e+05</td> <td> 8.89e+05</td> <td>    0.396</td> <td> 0.692</td> <td>-1.39e+06</td> <td> 2.09e+06</td>\n",
       "</tr>\n",
       "<tr>\n",
       "  <th>MD</th>          <td> 3.717e+05</td> <td> 8.89e+05</td> <td>    0.418</td> <td> 0.676</td> <td>-1.37e+06</td> <td> 2.12e+06</td>\n",
       "</tr>\n",
       "<tr>\n",
       "  <th>ME</th>          <td> 3.322e+05</td> <td> 8.91e+05</td> <td>    0.373</td> <td> 0.709</td> <td>-1.41e+06</td> <td> 2.08e+06</td>\n",
       "</tr>\n",
       "<tr>\n",
       "  <th>MI</th>          <td> 3.846e+05</td> <td> 8.92e+05</td> <td>    0.431</td> <td> 0.666</td> <td>-1.36e+06</td> <td> 2.13e+06</td>\n",
       "</tr>\n",
       "<tr>\n",
       "  <th>MN</th>          <td> 4.519e+05</td> <td> 8.93e+05</td> <td>    0.506</td> <td> 0.613</td> <td> -1.3e+06</td> <td>  2.2e+06</td>\n",
       "</tr>\n",
       "<tr>\n",
       "  <th>MO</th>          <td>  5.05e+05</td> <td> 8.91e+05</td> <td>    0.567</td> <td> 0.571</td> <td>-1.24e+06</td> <td> 2.25e+06</td>\n",
       "</tr>\n",
       "<tr>\n",
       "  <th>MS</th>          <td> 4.929e+05</td> <td>  8.9e+05</td> <td>    0.554</td> <td> 0.580</td> <td>-1.25e+06</td> <td> 2.24e+06</td>\n",
       "</tr>\n",
       "<tr>\n",
       "  <th>MT</th>          <td> 3.458e+05</td> <td> 8.98e+05</td> <td>    0.385</td> <td> 0.700</td> <td>-1.42e+06</td> <td> 2.11e+06</td>\n",
       "</tr>\n",
       "<tr>\n",
       "  <th>NC</th>          <td> 3.748e+05</td> <td> 8.88e+05</td> <td>    0.422</td> <td> 0.673</td> <td>-1.37e+06</td> <td> 2.12e+06</td>\n",
       "</tr>\n",
       "<tr>\n",
       "  <th>ND</th>          <td> 5.209e+05</td> <td> 8.97e+05</td> <td>    0.581</td> <td> 0.562</td> <td>-1.24e+06</td> <td> 2.28e+06</td>\n",
       "</tr>\n",
       "<tr>\n",
       "  <th>NE</th>          <td> 5.086e+05</td> <td> 8.93e+05</td> <td>    0.570</td> <td> 0.569</td> <td>-1.24e+06</td> <td> 2.26e+06</td>\n",
       "</tr>\n",
       "<tr>\n",
       "  <th>NH</th>          <td> 3.418e+05</td> <td> 8.91e+05</td> <td>    0.384</td> <td> 0.701</td> <td> -1.4e+06</td> <td> 2.09e+06</td>\n",
       "</tr>\n",
       "<tr>\n",
       "  <th>NJ</th>          <td> 3.428e+05</td> <td> 8.89e+05</td> <td>    0.386</td> <td> 0.700</td> <td> -1.4e+06</td> <td> 2.09e+06</td>\n",
       "</tr>\n",
       "<tr>\n",
       "  <th>NM</th>          <td> 5.563e+05</td> <td> 8.93e+05</td> <td>    0.623</td> <td> 0.533</td> <td>-1.19e+06</td> <td> 2.31e+06</td>\n",
       "</tr>\n",
       "<tr>\n",
       "  <th>NV</th>          <td> 6.282e+05</td> <td> 8.96e+05</td> <td>    0.701</td> <td> 0.483</td> <td>-1.13e+06</td> <td> 2.38e+06</td>\n",
       "</tr>\n",
       "<tr>\n",
       "  <th>NY</th>          <td> 3.929e+05</td> <td> 8.89e+05</td> <td>    0.442</td> <td> 0.658</td> <td>-1.35e+06</td> <td> 2.14e+06</td>\n",
       "</tr>\n",
       "<tr>\n",
       "  <th>OH</th>          <td> 4.639e+05</td> <td> 8.91e+05</td> <td>    0.521</td> <td> 0.603</td> <td>-1.28e+06</td> <td> 2.21e+06</td>\n",
       "</tr>\n",
       "<tr>\n",
       "  <th>OK</th>          <td> 4.899e+05</td> <td> 8.92e+05</td> <td>    0.549</td> <td> 0.583</td> <td>-1.26e+06</td> <td> 2.24e+06</td>\n",
       "</tr>\n",
       "<tr>\n",
       "  <th>OR</th>          <td> 5.809e+05</td> <td>    9e+05</td> <td>    0.645</td> <td> 0.519</td> <td>-1.18e+06</td> <td> 2.35e+06</td>\n",
       "</tr>\n",
       "<tr>\n",
       "  <th>PA</th>          <td> 3.835e+05</td> <td>  8.9e+05</td> <td>    0.431</td> <td> 0.666</td> <td>-1.36e+06</td> <td> 2.13e+06</td>\n",
       "</tr>\n",
       "<tr>\n",
       "  <th>PR</th>          <td> 4.491e+05</td> <td> 8.85e+05</td> <td>    0.508</td> <td> 0.612</td> <td>-1.29e+06</td> <td> 2.18e+06</td>\n",
       "</tr>\n",
       "<tr>\n",
       "  <th>RI</th>          <td>  3.98e+05</td> <td> 8.89e+05</td> <td>    0.448</td> <td> 0.654</td> <td>-1.34e+06</td> <td> 2.14e+06</td>\n",
       "</tr>\n",
       "<tr>\n",
       "  <th>SC</th>          <td> 4.323e+05</td> <td> 8.88e+05</td> <td>    0.487</td> <td> 0.627</td> <td>-1.31e+06</td> <td> 2.17e+06</td>\n",
       "</tr>\n",
       "<tr>\n",
       "  <th>SD</th>          <td>  4.84e+05</td> <td> 8.95e+05</td> <td>    0.541</td> <td> 0.589</td> <td>-1.27e+06</td> <td> 2.24e+06</td>\n",
       "</tr>\n",
       "<tr>\n",
       "  <th>TN</th>          <td> 4.257e+05</td> <td>  8.9e+05</td> <td>    0.478</td> <td> 0.633</td> <td>-1.32e+06</td> <td> 2.17e+06</td>\n",
       "</tr>\n",
       "<tr>\n",
       "  <th>TX</th>          <td> 5.273e+05</td> <td> 8.91e+05</td> <td>    0.592</td> <td> 0.554</td> <td>-1.22e+06</td> <td> 2.27e+06</td>\n",
       "</tr>\n",
       "<tr>\n",
       "  <th>UT</th>          <td> 5.825e+05</td> <td> 8.96e+05</td> <td>    0.650</td> <td> 0.516</td> <td>-1.17e+06</td> <td> 2.34e+06</td>\n",
       "</tr>\n",
       "<tr>\n",
       "  <th>VA</th>          <td> 4.288e+05</td> <td> 8.89e+05</td> <td>    0.482</td> <td> 0.630</td> <td>-1.31e+06</td> <td> 2.17e+06</td>\n",
       "</tr>\n",
       "<tr>\n",
       "  <th>VI</th>          <td> 4.789e+05</td> <td> 8.93e+05</td> <td>    0.536</td> <td> 0.592</td> <td>-1.27e+06</td> <td> 2.23e+06</td>\n",
       "</tr>\n",
       "<tr>\n",
       "  <th>VT</th>          <td> 3.617e+05</td> <td> 8.98e+05</td> <td>    0.403</td> <td> 0.687</td> <td> -1.4e+06</td> <td> 2.12e+06</td>\n",
       "</tr>\n",
       "<tr>\n",
       "  <th>WA</th>          <td> 5.815e+05</td> <td>    9e+05</td> <td>    0.646</td> <td> 0.518</td> <td>-1.18e+06</td> <td> 2.35e+06</td>\n",
       "</tr>\n",
       "<tr>\n",
       "  <th>WI</th>          <td> 4.469e+05</td> <td> 8.91e+05</td> <td>    0.501</td> <td> 0.616</td> <td> -1.3e+06</td> <td> 2.19e+06</td>\n",
       "</tr>\n",
       "<tr>\n",
       "  <th>WV</th>          <td> 3.994e+05</td> <td> 8.92e+05</td> <td>    0.448</td> <td> 0.654</td> <td>-1.35e+06</td> <td> 2.15e+06</td>\n",
       "</tr>\n",
       "<tr>\n",
       "  <th>WY</th>          <td> 5.706e+05</td> <td> 8.95e+05</td> <td>    0.637</td> <td> 0.524</td> <td>-1.18e+06</td> <td> 2.33e+06</td>\n",
       "</tr>\n",
       "</table>\n",
       "<table class=\"simpletable\">\n",
       "<tr>\n",
       "  <th>Omnibus:</th>       <td>2450.583</td> <th>  Durbin-Watson:     </th>  <td>   1.990</td>  \n",
       "</tr>\n",
       "<tr>\n",
       "  <th>Prob(Omnibus):</th>  <td> 0.000</td>  <th>  Jarque-Bera (JB):  </th> <td>1050005.357</td>\n",
       "</tr>\n",
       "<tr>\n",
       "  <th>Skew:</th>           <td>-1.084</td>  <th>  Prob(JB):          </th>  <td>    0.00</td>  \n",
       "</tr>\n",
       "<tr>\n",
       "  <th>Kurtosis:</th>       <td>74.784</td>  <th>  Cond. No.          </th>  <td>8.37e+09</td>  \n",
       "</tr>\n",
       "</table><br/><br/>Notes:<br/>[1] Standard Errors assume that the covariance matrix of the errors is correctly specified.<br/>[2] The condition number is large, 8.37e+09. This might indicate that there are<br/>strong multicollinearity or other numerical problems."
      ],
      "text/plain": [
       "<class 'statsmodels.iolib.summary.Summary'>\n",
       "\"\"\"\n",
       "                            OLS Regression Results                            \n",
       "==============================================================================\n",
       "Dep. Variable:                   2020   R-squared:                       0.956\n",
       "Model:                            OLS   Adj. R-squared:                  0.956\n",
       "Method:                 Least Squares   F-statistic:                     1619.\n",
       "Date:                Mon, 28 Feb 2022   Prob (F-statistic):               0.00\n",
       "Time:                        11:30:02   Log-Likelihood:                -67023.\n",
       "No. Observations:                4886   AIC:                         1.342e+05\n",
       "Df Residuals:                    4820   BIC:                         1.346e+05\n",
       "Df Model:                          65                                         \n",
       "Covariance Type:            nonrobust                                         \n",
       "===============================================================================\n",
       "                  coef    std err          t      P>|t|      [0.025      0.975]\n",
       "-------------------------------------------------------------------------------\n",
       "Facility Id    -0.0671      0.875     -0.077      0.939      -1.782       1.648\n",
       "Latitude     2067.6050   2373.332      0.871      0.384   -2585.208    6720.418\n",
       "Longitude    5171.4692   1718.846      3.009      0.003    1801.746    8541.192\n",
       "2019            0.8054      0.015     54.238      0.000       0.776       0.835\n",
       "2018            0.1487      0.019      7.649      0.000       0.111       0.187\n",
       "2017           -0.0096      0.020     -0.486      0.627      -0.048       0.029\n",
       "2016            0.0567      0.020      2.864      0.004       0.018       0.095\n",
       "2015            0.0769      0.019      4.032      0.000       0.040       0.114\n",
       "2014           -0.2485      0.019    -13.228      0.000      -0.285      -0.212\n",
       "2013            0.0545      0.018      2.999      0.003       0.019       0.090\n",
       "2012            0.0169      0.016      1.043      0.297      -0.015       0.049\n",
       "2011            0.0025      0.012      0.208      0.835      -0.021       0.026\n",
       "AK            7.27e+05   9.15e+05      0.795      0.427   -1.07e+06    2.52e+06\n",
       "AL            4.56e+05   8.89e+05      0.513      0.608   -1.29e+06     2.2e+06\n",
       "AR           4.223e+05   8.91e+05      0.474      0.636   -1.32e+06    2.17e+06\n",
       "AZ           6.518e+05   8.94e+05      0.729      0.466    -1.1e+06     2.4e+06\n",
       "CA            6.28e+05   8.97e+05      0.700      0.484   -1.13e+06    2.39e+06\n",
       "CO           5.474e+05   8.94e+05      0.612      0.540   -1.21e+06     2.3e+06\n",
       "CT           4.133e+05   8.89e+05      0.465      0.642   -1.33e+06    2.16e+06\n",
       "DC           3.902e+05   8.96e+05      0.436      0.663   -1.37e+06    2.15e+06\n",
       "DE           3.828e+05   8.91e+05      0.430      0.667   -1.36e+06    2.13e+06\n",
       "FL           5.039e+05   8.87e+05      0.568      0.570   -1.24e+06    2.24e+06\n",
       "GA           4.154e+05   8.89e+05      0.467      0.640   -1.33e+06    2.16e+06\n",
       "GU          -6.388e+05   9.44e+05     -0.677      0.499   -2.49e+06    1.21e+06\n",
       "HI           8.334e+05   9.08e+05      0.917      0.359   -9.48e+05    2.61e+06\n",
       "IA           4.604e+05   8.92e+05      0.516      0.606   -1.29e+06    2.21e+06\n",
       "ID           5.825e+05   8.99e+05      0.648      0.517   -1.18e+06    2.34e+06\n",
       "IL           4.542e+05    8.9e+05      0.510      0.610   -1.29e+06     2.2e+06\n",
       "IN           4.029e+05    8.9e+05      0.453      0.651   -1.34e+06    2.15e+06\n",
       "KS           5.092e+05   8.92e+05      0.571      0.568   -1.24e+06    2.26e+06\n",
       "KY           4.248e+05    8.9e+05      0.477      0.633   -1.32e+06    2.17e+06\n",
       "LA           4.784e+05    8.9e+05      0.537      0.591   -1.27e+06    2.22e+06\n",
       "MA           3.522e+05   8.89e+05      0.396      0.692   -1.39e+06    2.09e+06\n",
       "MD           3.717e+05   8.89e+05      0.418      0.676   -1.37e+06    2.12e+06\n",
       "ME           3.322e+05   8.91e+05      0.373      0.709   -1.41e+06    2.08e+06\n",
       "MI           3.846e+05   8.92e+05      0.431      0.666   -1.36e+06    2.13e+06\n",
       "MN           4.519e+05   8.93e+05      0.506      0.613    -1.3e+06     2.2e+06\n",
       "MO            5.05e+05   8.91e+05      0.567      0.571   -1.24e+06    2.25e+06\n",
       "MS           4.929e+05    8.9e+05      0.554      0.580   -1.25e+06    2.24e+06\n",
       "MT           3.458e+05   8.98e+05      0.385      0.700   -1.42e+06    2.11e+06\n",
       "NC           3.748e+05   8.88e+05      0.422      0.673   -1.37e+06    2.12e+06\n",
       "ND           5.209e+05   8.97e+05      0.581      0.562   -1.24e+06    2.28e+06\n",
       "NE           5.086e+05   8.93e+05      0.570      0.569   -1.24e+06    2.26e+06\n",
       "NH           3.418e+05   8.91e+05      0.384      0.701    -1.4e+06    2.09e+06\n",
       "NJ           3.428e+05   8.89e+05      0.386      0.700    -1.4e+06    2.09e+06\n",
       "NM           5.563e+05   8.93e+05      0.623      0.533   -1.19e+06    2.31e+06\n",
       "NV           6.282e+05   8.96e+05      0.701      0.483   -1.13e+06    2.38e+06\n",
       "NY           3.929e+05   8.89e+05      0.442      0.658   -1.35e+06    2.14e+06\n",
       "OH           4.639e+05   8.91e+05      0.521      0.603   -1.28e+06    2.21e+06\n",
       "OK           4.899e+05   8.92e+05      0.549      0.583   -1.26e+06    2.24e+06\n",
       "OR           5.809e+05      9e+05      0.645      0.519   -1.18e+06    2.35e+06\n",
       "PA           3.835e+05    8.9e+05      0.431      0.666   -1.36e+06    2.13e+06\n",
       "PR           4.491e+05   8.85e+05      0.508      0.612   -1.29e+06    2.18e+06\n",
       "RI            3.98e+05   8.89e+05      0.448      0.654   -1.34e+06    2.14e+06\n",
       "SC           4.323e+05   8.88e+05      0.487      0.627   -1.31e+06    2.17e+06\n",
       "SD            4.84e+05   8.95e+05      0.541      0.589   -1.27e+06    2.24e+06\n",
       "TN           4.257e+05    8.9e+05      0.478      0.633   -1.32e+06    2.17e+06\n",
       "TX           5.273e+05   8.91e+05      0.592      0.554   -1.22e+06    2.27e+06\n",
       "UT           5.825e+05   8.96e+05      0.650      0.516   -1.17e+06    2.34e+06\n",
       "VA           4.288e+05   8.89e+05      0.482      0.630   -1.31e+06    2.17e+06\n",
       "VI           4.789e+05   8.93e+05      0.536      0.592   -1.27e+06    2.23e+06\n",
       "VT           3.617e+05   8.98e+05      0.403      0.687    -1.4e+06    2.12e+06\n",
       "WA           5.815e+05      9e+05      0.646      0.518   -1.18e+06    2.35e+06\n",
       "WI           4.469e+05   8.91e+05      0.501      0.616    -1.3e+06    2.19e+06\n",
       "WV           3.994e+05   8.92e+05      0.448      0.654   -1.35e+06    2.15e+06\n",
       "WY           5.706e+05   8.95e+05      0.637      0.524   -1.18e+06    2.33e+06\n",
       "==============================================================================\n",
       "Omnibus:                     2450.583   Durbin-Watson:                   1.990\n",
       "Prob(Omnibus):                  0.000   Jarque-Bera (JB):          1050005.357\n",
       "Skew:                          -1.084   Prob(JB):                         0.00\n",
       "Kurtosis:                      74.784   Cond. No.                     8.37e+09\n",
       "==============================================================================\n",
       "\n",
       "Notes:\n",
       "[1] Standard Errors assume that the covariance matrix of the errors is correctly specified.\n",
       "[2] The condition number is large, 8.37e+09. This might indicate that there are\n",
       "strong multicollinearity or other numerical problems.\n",
       "\"\"\""
      ]
     },
     "execution_count": 61,
     "metadata": {},
     "output_type": "execute_result"
    }
   ],
   "source": [
    "X =X.drop(['2020'], axis=1)\n",
    "y=df_de[['2020']]\n",
    "X_train, X_test, y_train, y_test=train_test_split(X, y, test_size = 0.25, random_state = 246)\n",
    "rModel = sm.OLS(y_train, X_train)\n",
    "rModel_results = rModel.fit()\n",
    "rModel_results.summary()"
   ]
  },
  {
   "cell_type": "code",
   "execution_count": 79,
   "id": "ab1aa9e7",
   "metadata": {},
   "outputs": [
    {
     "data": {
      "text/plain": [
       "1629"
      ]
     },
     "execution_count": 79,
     "metadata": {},
     "output_type": "execute_result"
    },
    {
     "data": {
      "image/png": "[encoded data removed]",
      "text/plain": [
       "<Figure size 432x288 with 1 Axes>"
      ]
     },
     "metadata": {
      "needs_background": "light"
     },
     "output_type": "display_data"
    }
   ],
   "source": [
    "y_pred = rModel_results.predict(X_test)\n",
    "plt.scatter(x=y_pred,y= y_test)\n",
    "len(y_pred)"
   ]
  },
  {
   "cell_type": "markdown",
   "id": "632e573b",
   "metadata": {},
   "source": [
    "### Evaluation of the model"
   ]
  },
  {
   "cell_type": "code",
   "execution_count": 25,
   "id": "0b7b3e65",
   "metadata": {},
   "outputs": [
    {
     "name": "stdout",
     "output_type": "stream",
     "text": [
      "Mean squared error of OLS model, States one-hot encoded 76031124856.73987\n",
      "SQRT of R-squared 275737.4201241824\n",
      "Mean absolute error of OLS model, States one-hot encoded 93418.9572518159\n",
      "R-sqruared 0.9562136723275587\n"
     ]
    }
   ],
   "source": [
    "print('Mean squared error of OLS model, States one-hot encoded', mean_squared_error(y_test, y_pred))\n",
    "print('SQRT of R-squared', math.sqrt(mean_squared_error(y_test, y_pred)))\n",
    "print('Mean absolute error of OLS model, States one-hot encoded', mean_absolute_error(y_test, y_pred))\n",
    "print('R-sqruared', rModel_results.rsquared)"
   ]
  },
  {
   "cell_type": "markdown",
   "id": "36fc8a75",
   "metadata": {},
   "source": [
    "### Trying to make a loop to forecast the future year after year.. not sure what should be assigned to 'y'.. first time, I predict for the year '2020' having X['2011': '2019'] as training data and Y is ['2020']... next, X['2012':'2020'] will be training data and what will be 'y'??"
   ]
  },
  {
   "cell_type": "code",
   "execution_count": 81,
   "id": "caeec4e7",
   "metadata": {},
   "outputs": [
    {
     "name": "stdout",
     "output_type": "stream",
     "text": [
      "(6515, 66) (6515, 1)\n",
      "2020 \n",
      " ['2020', '2021', '2022', '2023', '2024', '2025', '2026', '2027', '2028', '2029'] \n",
      " 9\n",
      "{'2020': 4144    1.881656e+05\n",
      "958     1.709005e+05\n",
      "3697    5.574663e+04\n",
      "2616    6.142271e+04\n",
      "5793    3.735785e+04\n",
      "            ...     \n",
      "1451    5.633751e+06\n",
      "2331    5.467243e+05\n",
      "2518    1.009024e+05\n",
      "5587    6.906058e+04\n",
      "2044   -4.142851e+03\n",
      "Length: 1629, dtype: float64}\n",
      "(6516, 66) (6515, 1)\n"
     ]
    },
    {
     "ename": "ValueError",
     "evalue": "Found input variables with inconsistent numbers of samples: [6516, 6515]",
     "output_type": "error",
     "traceback": [
      "\u001b[1;31m---------------------------------------------------------------------------\u001b[0m",
      "\u001b[1;31mValueError\u001b[0m                                Traceback (most recent call last)",
      "\u001b[1;32m<ipython-input-81-12d858eb3302>\u001b[0m in \u001b[0;36m<module>\u001b[1;34m\u001b[0m\n\u001b[0;32m     15\u001b[0m     \u001b[1;31m#year_fut = year_future[9-i]\u001b[0m\u001b[1;33m\u001b[0m\u001b[1;33m\u001b[0m\u001b[1;33m\u001b[0m\u001b[0m\n\u001b[0;32m     16\u001b[0m     \u001b[0mprint\u001b[0m\u001b[1;33m(\u001b[0m\u001b[0mX\u001b[0m\u001b[1;33m.\u001b[0m\u001b[0mshape\u001b[0m\u001b[1;33m,\u001b[0m \u001b[0my\u001b[0m\u001b[1;33m.\u001b[0m\u001b[0mshape\u001b[0m\u001b[1;33m)\u001b[0m\u001b[1;33m\u001b[0m\u001b[1;33m\u001b[0m\u001b[0m\n\u001b[1;32m---> 17\u001b[1;33m     \u001b[0mX_train\u001b[0m\u001b[1;33m,\u001b[0m \u001b[0mX_test\u001b[0m\u001b[1;33m,\u001b[0m \u001b[0my_train\u001b[0m\u001b[1;33m,\u001b[0m \u001b[0my_test\u001b[0m\u001b[1;33m=\u001b[0m\u001b[0mtrain_test_split\u001b[0m\u001b[1;33m(\u001b[0m\u001b[0mX\u001b[0m\u001b[1;33m,\u001b[0m \u001b[0my\u001b[0m\u001b[1;33m,\u001b[0m \u001b[0mtest_size\u001b[0m \u001b[1;33m=\u001b[0m \u001b[1;36m0.25\u001b[0m\u001b[1;33m,\u001b[0m \u001b[0mrandom_state\u001b[0m \u001b[1;33m=\u001b[0m \u001b[1;36m246\u001b[0m\u001b[1;33m)\u001b[0m\u001b[1;33m\u001b[0m\u001b[1;33m\u001b[0m\u001b[0m\n\u001b[0m\u001b[0;32m     18\u001b[0m     \u001b[0mrModel\u001b[0m \u001b[1;33m=\u001b[0m \u001b[0msm\u001b[0m\u001b[1;33m.\u001b[0m\u001b[0mOLS\u001b[0m\u001b[1;33m(\u001b[0m\u001b[0my_train\u001b[0m\u001b[1;33m,\u001b[0m \u001b[0mX_train\u001b[0m\u001b[1;33m)\u001b[0m\u001b[1;33m\u001b[0m\u001b[1;33m\u001b[0m\u001b[0m\n\u001b[0;32m     19\u001b[0m     \u001b[0mrModel_results\u001b[0m \u001b[1;33m=\u001b[0m \u001b[0mrModel\u001b[0m\u001b[1;33m.\u001b[0m\u001b[0mfit\u001b[0m\u001b[1;33m(\u001b[0m\u001b[1;33m)\u001b[0m\u001b[1;33m\u001b[0m\u001b[1;33m\u001b[0m\u001b[0m\n",
      "\u001b[1;32m~\\anaconda3\\lib\\site-packages\\sklearn\\model_selection\\_split.py\u001b[0m in \u001b[0;36mtrain_test_split\u001b[1;34m(test_size, train_size, random_state, shuffle, stratify, *arrays)\u001b[0m\n\u001b[0;32m   2170\u001b[0m         \u001b[1;32mraise\u001b[0m \u001b[0mValueError\u001b[0m\u001b[1;33m(\u001b[0m\u001b[1;34m\"At least one array required as input\"\u001b[0m\u001b[1;33m)\u001b[0m\u001b[1;33m\u001b[0m\u001b[1;33m\u001b[0m\u001b[0m\n\u001b[0;32m   2171\u001b[0m \u001b[1;33m\u001b[0m\u001b[0m\n\u001b[1;32m-> 2172\u001b[1;33m     \u001b[0marrays\u001b[0m \u001b[1;33m=\u001b[0m \u001b[0mindexable\u001b[0m\u001b[1;33m(\u001b[0m\u001b[1;33m*\u001b[0m\u001b[0marrays\u001b[0m\u001b[1;33m)\u001b[0m\u001b[1;33m\u001b[0m\u001b[1;33m\u001b[0m\u001b[0m\n\u001b[0m\u001b[0;32m   2173\u001b[0m \u001b[1;33m\u001b[0m\u001b[0m\n\u001b[0;32m   2174\u001b[0m     \u001b[0mn_samples\u001b[0m \u001b[1;33m=\u001b[0m \u001b[0m_num_samples\u001b[0m\u001b[1;33m(\u001b[0m\u001b[0marrays\u001b[0m\u001b[1;33m[\u001b[0m\u001b[1;36m0\u001b[0m\u001b[1;33m]\u001b[0m\u001b[1;33m)\u001b[0m\u001b[1;33m\u001b[0m\u001b[1;33m\u001b[0m\u001b[0m\n",
      "\u001b[1;32m~\\anaconda3\\lib\\site-packages\\sklearn\\utils\\validation.py\u001b[0m in \u001b[0;36mindexable\u001b[1;34m(*iterables)\u001b[0m\n\u001b[0;32m    297\u001b[0m     \"\"\"\n\u001b[0;32m    298\u001b[0m     \u001b[0mresult\u001b[0m \u001b[1;33m=\u001b[0m \u001b[1;33m[\u001b[0m\u001b[0m_make_indexable\u001b[0m\u001b[1;33m(\u001b[0m\u001b[0mX\u001b[0m\u001b[1;33m)\u001b[0m \u001b[1;32mfor\u001b[0m \u001b[0mX\u001b[0m \u001b[1;32min\u001b[0m \u001b[0miterables\u001b[0m\u001b[1;33m]\u001b[0m\u001b[1;33m\u001b[0m\u001b[1;33m\u001b[0m\u001b[0m\n\u001b[1;32m--> 299\u001b[1;33m     \u001b[0mcheck_consistent_length\u001b[0m\u001b[1;33m(\u001b[0m\u001b[1;33m*\u001b[0m\u001b[0mresult\u001b[0m\u001b[1;33m)\u001b[0m\u001b[1;33m\u001b[0m\u001b[1;33m\u001b[0m\u001b[0m\n\u001b[0m\u001b[0;32m    300\u001b[0m     \u001b[1;32mreturn\u001b[0m \u001b[0mresult\u001b[0m\u001b[1;33m\u001b[0m\u001b[1;33m\u001b[0m\u001b[0m\n\u001b[0;32m    301\u001b[0m \u001b[1;33m\u001b[0m\u001b[0m\n",
      "\u001b[1;32m~\\anaconda3\\lib\\site-packages\\sklearn\\utils\\validation.py\u001b[0m in \u001b[0;36mcheck_consistent_length\u001b[1;34m(*arrays)\u001b[0m\n\u001b[0;32m    260\u001b[0m     \u001b[0muniques\u001b[0m \u001b[1;33m=\u001b[0m \u001b[0mnp\u001b[0m\u001b[1;33m.\u001b[0m\u001b[0munique\u001b[0m\u001b[1;33m(\u001b[0m\u001b[0mlengths\u001b[0m\u001b[1;33m)\u001b[0m\u001b[1;33m\u001b[0m\u001b[1;33m\u001b[0m\u001b[0m\n\u001b[0;32m    261\u001b[0m     \u001b[1;32mif\u001b[0m \u001b[0mlen\u001b[0m\u001b[1;33m(\u001b[0m\u001b[0muniques\u001b[0m\u001b[1;33m)\u001b[0m \u001b[1;33m>\u001b[0m \u001b[1;36m1\u001b[0m\u001b[1;33m:\u001b[0m\u001b[1;33m\u001b[0m\u001b[1;33m\u001b[0m\u001b[0m\n\u001b[1;32m--> 262\u001b[1;33m         raise ValueError(\"Found input variables with inconsistent numbers of\"\n\u001b[0m\u001b[0;32m    263\u001b[0m                          \" samples: %r\" % [int(l) for l in lengths])\n\u001b[0;32m    264\u001b[0m \u001b[1;33m\u001b[0m\u001b[0m\n",
      "\u001b[1;31mValueError\u001b[0m: Found input variables with inconsistent numbers of samples: [6516, 6515]"
     ]
    }
   ],
   "source": [
    "X = df_de.drop(['Facility_Name', 'City', 'State', 'Zip Code', 'Address',\n",
    "       'County','Primary_NAICS_Code', 'IT_subparts', 'IT_sectors','Primary_NAICS_Code'],axis = 1)\n",
    "st_dummies=pd.get_dummies(df_de['State'])\n",
    "X= X.join(st_dummies)\n",
    "X_copy=X.copy()\n",
    "\n",
    "years =  ['2020','2019', '2018', '2017', '2016','2015', '2014', '2013', '2012','2011']\n",
    "years_future = ['2020','2021','2022','2023','2024','2025','2026','2027','2028','2029']\n",
    "y_future = {}\n",
    "i=9\n",
    "yr=2020\n",
    "X =X.drop(['2020'], axis=1)\n",
    "y=df_de[['2020']]\n",
    "for year in years_future:\n",
    "    print(X.shape, y.shape)\n",
    "    X_train, X_test, y_train, y_test=train_test_split(X, y, test_size = 0.25, random_state = 246)\n",
    "    rModel = sm.OLS(y_train, X_train)\n",
    "    rModel_results = rModel.fit()\n",
    "    y_pred = rModel_results.predict(X_test)\n",
    "\n",
    "    #append the results to the dataframe\n",
    "    \n",
    "    y_future={year:y_pred}\n",
    "    print(year,'\\n',years_future,'\\n',i)\n",
    "   \n",
    "    X=X.append(y_future, ignore_index=True)\n",
    "    X = X.drop([years[-1]],axis = 1)\n",
    "    years.pop(i)\n",
    "    i=i-1\n",
    "    print(y_future)\n",
    "    \n",
    "    \n"
   ]
  },
  {
   "cell_type": "code",
   "execution_count": 50,
   "id": "75b90e1d",
   "metadata": {},
   "outputs": [
    {
     "data": {
      "text/plain": [
       "Index(['Facility Id', 'Facility_Name', 'City', 'State', 'Zip Code', 'Address',\n",
       "       'County', 'Latitude', 'Longitude', 'Primary_NAICS_Code', 'IT_subparts',\n",
       "       'IT_sectors', '2020', '2019', '2018', '2017', '2016', '2015', '2014',\n",
       "       '2013', '2012', '2011'],\n",
       "      dtype='object')"
      ]
     },
     "execution_count": 50,
     "metadata": {},
     "output_type": "execute_result"
    }
   ],
   "source": [
    "df_de.columns"
   ]
  },
  {
   "cell_type": "code",
   "execution_count": 37,
   "id": "34001b16",
   "metadata": {},
   "outputs": [
    {
     "data": {
      "text/plain": [
       "4144    1.862809e+05\n",
       "958     2.019301e+05\n",
       "3697    2.424110e+04\n",
       "2616    5.995418e+04\n",
       "5793    1.104098e+04\n",
       "            ...     \n",
       "1451    5.282941e+06\n",
       "2331    5.524665e+05\n",
       "2518    1.034043e+05\n",
       "5587    4.268079e+04\n",
       "2044   -2.976768e+04\n",
       "Length: 1629, dtype: float64"
      ]
     },
     "execution_count": 37,
     "metadata": {},
     "output_type": "execute_result"
    }
   ],
   "source": [
    "y_future[1]"
   ]
  },
  {
   "cell_type": "code",
   "execution_count": null,
   "id": "da5c0997",
   "metadata": {},
   "outputs": [],
   "source": [
    "df_de.join(y_future, columns)"
   ]
  }
 ],
 "metadata": {
  "kernelspec": {
   "display_name": "Python 3",
   "language": "python",
   "name": "python3"
  },
  "language_info": {
   "codemirror_mode": {
    "name": "ipython",
    "version": 3
   },
   "file_extension": ".py",
   "mimetype": "text/x-python",
   "name": "python",
   "nbconvert_exporter": "python",
   "pygments_lexer": "ipython3",
   "version": "3.8.8"
  }
 },
 "nbformat": 4,
 "nbformat_minor": 5
}
