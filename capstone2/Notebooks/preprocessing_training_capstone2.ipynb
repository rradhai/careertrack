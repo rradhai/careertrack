{
 "cells": [
  {
   "cell_type": "code",
   "execution_count": 1,
   "id": "3e2f62c0",
   "metadata": {},
   "outputs": [],
   "source": [
    "import pandas as pd\n",
    "import numpy as np\n",
    "import matplotlib.pyplot as plt\n",
    "import seaborn as sns\n",
    "from sklearn.preprocessing import scale\n",
    "from sklearn.decomposition import PCA\n",
    "\n",
    "\n",
    "from sklearn.model_selection import train_test_split\n",
    "from sklearn import linear_model, preprocessing\n",
    "\n"
   ]
  },
  {
   "cell_type": "code",
   "execution_count": 2,
   "id": "2deb37ef",
   "metadata": {},
   "outputs": [],
   "source": [
    "\n",
    "df_de =pd.read_excel('../data/data_for_training_preprocessing.xlsx',sheet_name='sheet3',index_col=0, engine='openpyxl')\n",
    "df_oog =pd.read_excel('../data/data_for_training_preprocessing.xlsx',sheet_name='sheet4',index_col=0, engine='openpyxl')\n",
    "df_sf6 =pd.read_excel('../data/data_for_training_preprocessing.xlsx',sheet_name='sheet5',index_col=0, engine='openpyxl')\n",
    "df_ldc =pd.read_excel('../data/data_for_training_preprocessing.xlsx',sheet_name='sheet6',index_col=0, engine='openpyxl')\n"
   ]
  },
  {
   "cell_type": "code",
   "execution_count": 11,
   "id": "6c649a56",
   "metadata": {
    "scrolled": false
   },
   "outputs": [
    {
     "data": {
      "text/plain": [
       "Index(['Facility_Name', 'City', 'State', 'Zip Code', 'Address', 'County',\n",
       "       'Latitude', 'Longitude', 'Primary_NAICS_Code', 'IT_subparts',\n",
       "       'IT_sectors', '2020', '2019', '2018', '2017', '2016', '2015', '2014',\n",
       "       '2013', '2012', '2011', '2020_perc_change', '2020_change_pattern',\n",
       "       '2012_perc_change', '2012_change_pattern', '2013_perc_change',\n",
       "       '2013_change_pattern', '2014_perc_change', '2014_change_pattern',\n",
       "       '2015_perc_change', '2015_change_pattern', '2016_perc_change',\n",
       "       '2016_change_pattern', '2017_perc_change', '2017_change_pattern',\n",
       "       '2018_perc_change', '2018_change_pattern', '2019_perc_change',\n",
       "       '2019_change_pattern'],\n",
       "      dtype='object')"
      ]
     },
     "execution_count": 11,
     "metadata": {},
     "output_type": "execute_result"
    }
   ],
   "source": [
    "df_de.columns"
   ]
  },
  {
   "cell_type": "code",
   "execution_count": 27,
   "id": "c4aa3549",
   "metadata": {
    "scrolled": true
   },
   "outputs": [
    {
     "data": {
      "text/plain": [
       "Index(['FRD_id', 'Facility_Name', 'City', 'State', 'Zip_Code', 'Address',\n",
       "       'County', 'Latitude', 'Longitude', 'Primary_NAICS_Code', 'IT_subparts',\n",
       "       '2020', '2019', '2018', '2017', '2016', '2015', '2014', '2013', '2012',\n",
       "       '2011', '2012_perc_change', '2012_change_pattern', '2013_perc_change',\n",
       "       '2013_change_pattern', '2014_perc_change', '2014_change_pattern',\n",
       "       '2015_perc_change', '2015_change_pattern', '2016_perc_change',\n",
       "       '2016_change_pattern', '2017_perc_change', '2017_change_pattern',\n",
       "       '2018_perc_change', '2018_change_pattern', '2019_perc_change',\n",
       "       '2019_change_pattern', '2020_perc_change', '2020_change_pattern'],\n",
       "      dtype='object')"
      ]
     },
     "execution_count": 27,
     "metadata": {},
     "output_type": "execute_result"
    }
   ],
   "source": [
    "df_sf6.columns"
   ]
  },
  {
   "cell_type": "code",
   "execution_count": 28,
   "id": "82a90daa",
   "metadata": {
    "scrolled": true
   },
   "outputs": [
    {
     "data": {
      "text/plain": [
       "Index(['FRS_Id', 'Facility_Name', 'Basin', 'City', 'State', 'Zip_Code',\n",
       "       'Address', 'County', 'Latitude', 'Longitude', 'Primary_NAICS_Code',\n",
       "       'IT_subparts', '2020', 'CO2_emi_non_bio_2020', 'Meth_CH4_emi_2020',\n",
       "       'N2O_emi_2020', '2019', 'CO2_emi_non_bio_2019', 'Meth_CH4_emi_2019',\n",
       "       'N2O_emi_2019', '2018', 'CO2_emi_non_bio_2018', 'Meth_CH4_emi_2018',\n",
       "       'N2O_emi_2018', '2017', 'CO2_emi_non_bio_2017', 'Meth_CH4_emi_2017',\n",
       "       'N2O_emi_2017', '2016', 'CO2_emi_non_bio_2016', 'Meth_CH4_emi_2016',\n",
       "       'N2O_emi_2016', '2015', 'CO2_emi_non_bio_2015', 'Meth_CH4_emi_2015',\n",
       "       'N2O_emi_2015', '2014', 'CCO2_emi_non_bio_2014', 'Meth_CH4_emi_2014',\n",
       "       'N2O_emi_2014', '2013', 'CO2_emi_non_bio_2013', 'Meth_CH4_emi_2013',\n",
       "       'N2O_emi_2013', '2012', 'CO2_emi_non_bio_2012', 'Meth_CH4_emi_2012',\n",
       "       'N2O_emi_2012', '2011', 'CO2_emi_non_bio_2011', 'Meth_CH4_emi_2011',\n",
       "       'N2O_emi_2011', '2012_perc_change', '2012_change_pattern',\n",
       "       '2013_perc_change', '2013_change_pattern', '2014_perc_change',\n",
       "       '2014_change_pattern', '2015_perc_change', '2015_change_pattern',\n",
       "       '2016_perc_change', '2016_change_pattern', '2017_perc_change',\n",
       "       '2017_change_pattern', '2018_perc_change', '2018_change_pattern',\n",
       "       '2019_perc_change', '2019_change_pattern', '2020_perc_change',\n",
       "       '2020_change_pattern'],\n",
       "      dtype='object')"
      ]
     },
     "execution_count": 28,
     "metadata": {},
     "output_type": "execute_result"
    }
   ],
   "source": [
    "df_oog.columns"
   ]
  },
  {
   "cell_type": "markdown",
   "id": "6243d714",
   "metadata": {},
   "source": [
    "# Subsetting the datasets with the numeric columns"
   ]
  },
  {
   "cell_type": "code",
   "execution_count": 29,
   "id": "9f9360f7",
   "metadata": {},
   "outputs": [],
   "source": [
    "df_de_X = df_de[['Latitude', 'Longitude','2019', '2018', '2017', '2016', '2015', '2014',\n",
    "       '2013', '2012', '2011']]\n",
    "df_sf6_X = df_sf6[['Latitude', 'Longitude','2019', '2018', '2017', '2016', '2015', '2014',\n",
    "       '2013', '2012', '2011']]\n",
    "df_oog_X = df_oog[['Latitude', 'Longitude','2019', '2018', '2017', '2016', '2015', '2014',\n",
    "       '2013', '2012', '2011']]\n",
    "df_ldc_X = df_ldc[['Latitude', 'Longitude','2019', '2018', '2017', '2016', '2015', '2014',\n",
    "       '2013', '2012', '2011']]"
   ]
  },
  {
   "cell_type": "markdown",
   "id": "bf3af3c3",
   "metadata": {},
   "source": [
    "# One-hot encoded for States"
   ]
  },
  {
   "cell_type": "code",
   "execution_count": 31,
   "id": "7ad5030b",
   "metadata": {},
   "outputs": [],
   "source": [
    "df_de_st_dummies=pd.get_dummies(df_de['State'])\n",
    "df_de_X= df_de_X.join(df_de_st_dummies)\n",
    "df_de_y=df_de[['2020']]\n",
    "df_sf6_st_dummies=pd.get_dummies(df_sf6['State'])\n",
    "df_sf6_X = df_sf6_X.join(df_sf6_st_dummies)\n",
    "df_sf6_y=df_sf6[['2020']]\n",
    "df_oog_st_dummies=pd.get_dummies(df_oog['State'])\n",
    "df_oog_X = df_oog_X.join(df_oog_st_dummies)\n",
    "df_oog_y=df_oog[['2020']]\n",
    "df_ldc_st_dummies=pd.get_dummies(df_ldc['State'])\n",
    "df_ldc_X= df_ldc_X.join(df_ldc_st_dummies)\n",
    "df_ldc_y=df_ldc[['2020']]\n"
   ]
  },
  {
   "cell_type": "markdown",
   "id": "3c577655",
   "metadata": {},
   "source": [
    "# Train Test split of the datasets"
   ]
  },
  {
   "cell_type": "code",
   "execution_count": 36,
   "id": "2b5f6fa0",
   "metadata": {},
   "outputs": [],
   "source": [
    "df_de_X_train, df_de_X_test, df_de_y_train, df_de_y_test=train_test_split(df_de_X, df_de_y, test_size = 0.25, random_state = 246)\n",
    "df_sf6_X_train, df_sf6_X_test, df_sf6_y_train, df_sf6_y_test=train_test_split(df_sf6_X, df_sf6_y, test_size = 0.25, random_state = 246)\n",
    "df_oog_X_train, df_oog_X_test, df_oog_y_train, df_oog_y_test=train_test_split(df_oog_X, df_oog_y, test_size = 0.25, random_state = 246)\n",
    "df_ldc_X_train, df_ldc_X_test, df_ldc_y_train, df_ldc_y_test=train_test_split(df_ldc_X, df_ldc_y, test_size = 0.25, random_state = 246)\n"
   ]
  },
  {
   "cell_type": "markdown",
   "id": "9c3e843f",
   "metadata": {},
   "source": [
    "# Standardizing the numeric columns"
   ]
  },
  {
   "cell_type": "code",
   "execution_count": 37,
   "id": "8e1209ee",
   "metadata": {},
   "outputs": [],
   "source": [
    "scaler = preprocessing.StandardScaler().fit(df_de_X_train)\n",
    "df_de_X_train_scaled=scaler.transform(df_de_X_train)\n",
    "df_de_X_test_scaled=scaler.transform(df_de_X_test)\n",
    "scaler = preprocessing.StandardScaler().fit(df_sf6_X_train)\n",
    "df_sf6_X_train_scaled=scaler.transform(df_sf6_X_train)\n",
    "df_sf6_X_test_scaled=scaler.transform(df_sf6_X_test)\n",
    "scaler = preprocessing.StandardScaler().fit(df_oog_X_train)\n",
    "df_oog_X_train_scaled=scaler.transform(df_oog_X_train)\n",
    "df_oog_X_test_scaled=scaler.transform(df_oog_X_test)\n",
    "scaler = preprocessing.StandardScaler().fit(df_ldc_X_train)\n",
    "df_ldc_X_train_scaled=scaler.transform(df_ldc_X_train)\n",
    "df_ldc_X_test_scaled=scaler.transform(df_ldc_X_test)"
   ]
  },
  {
   "cell_type": "code",
   "execution_count": null,
   "id": "afb496c7",
   "metadata": {},
   "outputs": [],
   "source": []
  }
 ],
 "metadata": {
  "kernelspec": {
   "display_name": "Python 3",
   "language": "python",
   "name": "python3"
  },
  "language_info": {
   "codemirror_mode": {
    "name": "ipython",
    "version": 3
   },
   "file_extension": ".py",
   "mimetype": "text/x-python",
   "name": "python",
   "nbconvert_exporter": "python",
   "pygments_lexer": "ipython3",
   "version": "3.8.8"
  }
 },
 "nbformat": 4,
 "nbformat_minor": 5
}
